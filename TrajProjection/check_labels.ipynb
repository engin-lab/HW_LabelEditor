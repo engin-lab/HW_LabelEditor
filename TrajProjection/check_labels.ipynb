{
 "cells": [
  {
   "cell_type": "code",
   "execution_count": 31,
   "metadata": {},
   "outputs": [],
   "source": [
    "import numpy as np\n",
    "import matplotlib.pyplot as plt\n",
    "import skimage.io\n",
    "from glob import glob\n",
    "import cv2"
   ]
  },
  {
   "cell_type": "code",
   "execution_count": 32,
   "metadata": {},
   "outputs": [],
   "source": [
    "files = glob('./*/*Track*.jpg')\n",
    "files.sort()"
   ]
  },
  {
   "cell_type": "code",
   "execution_count": 33,
   "metadata": {},
   "outputs": [
    {
     "name": "stderr",
     "output_type": "stream",
     "text": [
      "/anaconda3/lib/python3.6/site-packages/skimage/io/_io.py:132: UserWarning: ./4ArmTrack/EE8_05_20180519_2Track.1_frame1.png is a low contrast image\n",
      "  warn('%s is a low contrast image' % fname)\n",
      "/anaconda3/lib/python3.6/site-packages/skimage/io/_io.py:132: UserWarning: ./4ArmTrack/EE8_07_20180521_10Track.1_frame1.png is a low contrast image\n",
      "  warn('%s is a low contrast image' % fname)\n",
      "/anaconda3/lib/python3.6/site-packages/skimage/io/_io.py:132: UserWarning: ./4ArmTrack/EE8_07_20180521_10Track.1_frame2.png is a low contrast image\n",
      "  warn('%s is a low contrast image' % fname)\n",
      "/anaconda3/lib/python3.6/site-packages/skimage/io/_io.py:132: UserWarning: ./4ArmTrack/EE8_07_20180521_8Track.1_frame1.png is a low contrast image\n",
      "  warn('%s is a low contrast image' % fname)\n",
      "/anaconda3/lib/python3.6/site-packages/skimage/io/_io.py:132: UserWarning: ./4ArmTrack/EE8_07_20180521_8Track.1_frame2.png is a low contrast image\n",
      "  warn('%s is a low contrast image' % fname)\n",
      "/anaconda3/lib/python3.6/site-packages/skimage/io/_io.py:132: UserWarning: ./4ArmTrack/EE9_07_20180521_10Track.1_frame2.png is a low contrast image\n",
      "  warn('%s is a low contrast image' % fname)\n"
     ]
    }
   ],
   "source": [
    "for i in range(len(files)):\n",
    "    fname = files[i]\n",
    "    img = skimage.io.imread(fname)[:,:,::-1]\n",
    "    new_fname = './4ArmTrack/'+fname.split('/')[-1][:-4] + '.png'\n",
    "    skimage.io.imsave(new_fname,img)"
   ]
  },
  {
   "cell_type": "code",
   "execution_count": 17,
   "metadata": {},
   "outputs": [
    {
     "data": {
      "text/plain": [
       "'./SleepBox/EE10_01_20180604_1Sleep.1_frame2.png'"
      ]
     },
     "execution_count": 17,
     "metadata": {},
     "output_type": "execute_result"
    }
   ],
   "source": []
  },
  {
   "cell_type": "code",
   "execution_count": null,
   "metadata": {},
   "outputs": [],
   "source": []
  }
 ],
 "metadata": {
  "kernelspec": {
   "display_name": "Python 3",
   "language": "python",
   "name": "python3"
  },
  "language_info": {
   "codemirror_mode": {
    "name": "ipython",
    "version": 3
   },
   "file_extension": ".py",
   "mimetype": "text/x-python",
   "name": "python",
   "nbconvert_exporter": "python",
   "pygments_lexer": "ipython3",
   "version": "3.6.5"
  }
 },
 "nbformat": 4,
 "nbformat_minor": 2
}
