{
 "cells": [
  {
   "cell_type": "code",
   "execution_count": 106,
   "metadata": {},
   "outputs": [],
   "source": [
    "import numpy as np\n",
    "import matplotlib.pyplot as plt\n",
    "import pandas as pd\n",
    "import cv2\n",
    "from os import mkdir\n",
    "import imageio\n",
    "from glob import glob\n",
    "from tqdm import tnrange\n",
    "from shutil import copyfile"
   ]
  },
  {
   "cell_type": "code",
   "execution_count": 86,
   "metadata": {},
   "outputs": [],
   "source": [
    "class Video(object):\n",
    "\n",
    "    def __init__(self, file_name):\n",
    "        self.file_name = file_name\n",
    "        self.cap = cv2.VideoCapture(self.file_name)\n",
    "\n",
    "        # get number of frames, 7 is the propID for number of frames\n",
    "        if self.file_name[-4:] == 'h264':\n",
    "            try:\n",
    "                meta_name = self.file_name[:-5] + '.npy'\n",
    "                vshape = np.load(meta_name)\n",
    "                self.num_frame = vshape[0]\n",
    "            except Exception:\n",
    "                self.num_frame = 0\n",
    "                print('Could not find metatdata file '+meta_name)\n",
    "\n",
    "        else:\n",
    "            self.num_frame = self.cap.get(7)\n",
    "\n",
    "    def read_frame(self, i):\n",
    "        # 1 is the propID for current frame\n",
    "        self.cap.set(1, i)\n",
    "        ret, frame = self.cap.read()\n",
    "        if ret == 1:\n",
    "            return frame[:, :, 2::-1]\n",
    "        else:\n",
    "            raise Exception('Bad Frame')\n",
    "\n",
    "    @property\n",
    "    def total_frames(self):\n",
    "        return self.num_frame\n",
    "\n",
    "    def close(self):\n",
    "        self.cap.release()\n",
    "        \n",
    "def find_bad_frame(data_set, likelihood=0.95, check_progress=False, progress_bar=None):\n",
    "    data_set_name = data_set.keys()[0][0]\n",
    "    num_label = data_set[data_set_name].keys().levshape[0]\n",
    "\n",
    "    if check_progress:\n",
    "        progress_bar.setValue(50)\n",
    "\n",
    "    labels = list()\n",
    "    for label_id in range(num_label):\n",
    "        labels.append(data_set[data_set_name].keys()[label_id*3][0])\n",
    "\n",
    "    label_bad_frame = data_set[data_set_name][labels[0]]['likelihood'] < likelihood\n",
    "    for label in labels:\n",
    "        label_bad_frame = ((data_set[data_set_name][label]['likelihood'] < likelihood) | label_bad_frame)\n",
    "\n",
    "    bad_frames = data_set.index[label_bad_frame].tolist()\n",
    "    return bad_frames"
   ]
  },
  {
   "cell_type": "code",
   "execution_count": 87,
   "metadata": {},
   "outputs": [],
   "source": [
    "video_name = './videos/EE11_06_20180609_2Track.1'\n",
    "\n",
    "def save_bad_frames(video_name,suffix='DeepCut_resnet101_trackingledsAug13shuffle1_500000'):\n",
    "    video_file_name = video_name + '.mp4'\n",
    "    dataset_file_name = video_name + suffix + '.h5'\n",
    "    try:\n",
    "        mkdir(video_name+'_bad_frames')\n",
    "    except:\n",
    "        print('Already exist!')\n",
    "    video = Video(video_file_name)\n",
    "    dataset = pd.read_hdf(dataset_file_name)\n",
    "    bad_frame_ids = find_bad_frame(dataset)\n",
    "    dataset_name = dataset.keys()[0][0]\n",
    "    num_labels = dataset[dataset_name].keys().levshape[0]\n",
    "    labels = list()\n",
    "    for label_id in range(num_label):\n",
    "        labels.append(dataset[dataset_name].keys()[label_id*3][0])\n",
    "\n",
    "    xs = np.zeros((len(bad_frame_ids),num_labels))\n",
    "    ys = np.zeros((len(bad_frame_ids),num_labels))\n",
    "\n",
    "    for i, bad_frame_id in enumerate(bad_frame_ids):\n",
    "        frame = video.read_frame(bad_frame_id)\n",
    "        imageio.imwrite(video_name+'_bad_frames/img'+str(i)+'.png', frame)\n",
    "    bad_dataset = np.zeros((len(bad_frame_ids),4))\n",
    "    bad_dataset[:,0:2] = dataset.loc[bad_frame_ids].values[:,0:2]\n",
    "    bad_dataset[:,2:4] = dataset.loc[bad_frame_ids].values[:,3:5]\n",
    "    np.save(video_name+'_bad_frames/Results.npy',bad_dataset)\n",
    "\n",
    "    video.close()"
   ]
  },
  {
   "cell_type": "code",
   "execution_count": 89,
   "metadata": {},
   "outputs": [
    {
     "data": {
      "application/vnd.jupyter.widget-view+json": {
       "model_id": "a3542d8fed244bf8a5a108d7610562e0",
       "version_major": 2,
       "version_minor": 0
      },
      "text/plain": [
       "HBox(children=(IntProgress(value=0, max=6), HTML(value='')))"
      ]
     },
     "metadata": {},
     "output_type": "display_data"
    },
    {
     "name": "stdout",
     "output_type": "stream",
     "text": [
      "Already exist!\n",
      "\n"
     ]
    }
   ],
   "source": [
    "file_name_list = glob('./videos/*.mp4')\n",
    "for i in tnrange(len(file_name_list)):\n",
    "    file_name = file_name_list[i]\n",
    "    video_name = file_name[:-4]\n",
    "    save_bad_frames(video_name)"
   ]
  },
  {
   "cell_type": "code",
   "execution_count": 108,
   "metadata": {},
   "outputs": [
    {
     "name": "stdout",
     "output_type": "stream",
     "text": [
      "Already exist\n"
     ]
    }
   ],
   "source": [
    "results = np.zeros((1,4))\n",
    "counter = 900\n",
    "try:\n",
    "    mkdir('./videos/organized')\n",
    "except:\n",
    "    print('Already exist')\n",
    "folder_list = glob('./videos/*_bad_frames')\n",
    "for folder_name in folder_list:\n",
    "    array_file_name = folder_name + '/Results.npy'\n",
    "    result = np.load(array_file_name)\n",
    "    for i in range(result.shape[0]):\n",
    "        copyfile(folder_name +'/img'+str(i)+'.png','./videos/organized/img'+str(counter)+'.png')\n",
    "        counter += 1\n",
    "    results = np.concatenate((results,result))\n",
    "    \n",
    "results = results[1:,:]"
   ]
  },
  {
   "cell_type": "code",
   "execution_count": 109,
   "metadata": {},
   "outputs": [],
   "source": [
    "np.save('./videos/organized/Results.npy',results)"
   ]
  },
  {
   "cell_type": "code",
   "execution_count": 110,
   "metadata": {},
   "outputs": [],
   "source": [
    "results_csv = results.reshape(results.shape[0]*2,-1)"
   ]
  },
  {
   "cell_type": "code",
   "execution_count": 112,
   "metadata": {},
   "outputs": [
    {
     "data": {
      "text/plain": [
       "array([[432.66251898, 261.94742393, 437.10376453, 256.71255517],\n",
       "       [435.79728346, 258.51185024, 436.82915246, 256.16931295],\n",
       "       [436.02340235, 259.48951316, 437.00540698, 256.5559299 ],\n",
       "       ...,\n",
       "       [410.74445844, 255.78184605, 405.80944407, 243.55514672],\n",
       "       [449.62667489, 238.79143238, 450.33530486, 238.51092792],\n",
       "       [450.07091057, 242.43125045, 450.74619281, 240.54321957]])"
      ]
     },
     "execution_count": 112,
     "metadata": {},
     "output_type": "execute_result"
    }
   ],
   "source": [
    "results"
   ]
  },
  {
   "cell_type": "code",
   "execution_count": 118,
   "metadata": {},
   "outputs": [],
   "source": [
    "np.savetxt('./videos/organized/Results.csv',results_csv,fmt='%10.5f',delimiter=',')"
   ]
  },
  {
   "cell_type": "code",
   "execution_count": null,
   "metadata": {},
   "outputs": [],
   "source": []
  }
 ],
 "metadata": {
  "kernelspec": {
   "display_name": "Python 3",
   "language": "python",
   "name": "python3"
  },
  "language_info": {
   "codemirror_mode": {
    "name": "ipython",
    "version": 3
   },
   "file_extension": ".py",
   "mimetype": "text/x-python",
   "name": "python",
   "nbconvert_exporter": "python",
   "pygments_lexer": "ipython3",
   "version": "3.6.5"
  }
 },
 "nbformat": 4,
 "nbformat_minor": 2
}
